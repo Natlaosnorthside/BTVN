{
 "cells": [
  {
   "cell_type": "code",
   "execution_count": 1,
   "id": "ee06a55a",
   "metadata": {},
   "outputs": [
    {
     "name": "stdout",
     "output_type": "stream",
     "text": [
      "Nhập id : 1234567893423\n",
      "Không phải mã vạch\n"
     ]
    }
   ],
   "source": [
    "id = input('Nhập id : ')\n",
    "i = 1\n",
    "A = 0\n",
    "# A là tổng vị trí lẻ là 30\n",
    "B = 0\n",
    "# B là tổng vị trí chẵn là 26 \n",
    "# len thì bằng 13 nhưng theo list thì thứ tự được tính từ 0 cho nên độ dài chuỗi theo list là từ 0 - 12\n",
    "# nên nếu sử dụng cần cẩn thận , phân biệt được biến đếm và độ dài chuỗi \n",
    "# bài này khá nhiều giá trị , nên print từng bước của while để dễ kiểm soát\n",
    "\n",
    "while i < 13  : \n",
    "    if i % 2 != 0 :\n",
    "        A = A + int(id[i-1])\n",
    "        i = i + 1\n",
    "    elif i % 2 == 0 :\n",
    "        B = B + int(id[i-1])\n",
    "        i = i + 1\n",
    "D = A + 3*B\n",
    "if D % 10 != 0 :\n",
    "    F = 10 - D%10\n",
    "else :\n",
    "    F = 0  \n",
    "if F == int(id[-1]) :\n",
    "    kq = 'Là mã vạch đúng'\n",
    "else :\n",
    "    kq = 'Không phải mã vạch'\n",
    "print(kq)"
   ]
  },
  {
   "cell_type": "code",
   "execution_count": 3,
   "id": "928f90d7",
   "metadata": {},
   "outputs": [
    {
     "name": "stdout",
     "output_type": "stream",
     "text": [
      "Nhập n 6\n",
      "3 "
     ]
    }
   ],
   "source": [
    "n = int(input('Nhập n '))\n",
    "j = 1 \n",
    "#số chia hết cho 6 là số chia hết cho 3 và 2\n",
    "#số chia hết cho 3 mà không chia hết cho 6 là số chia hết cho 3 mà không chia hết cho 2\n",
    "print(f'Các ước của {n} chia hết cho 3 nhưng không chia hết cho 6 là : ')\n",
    "while j < n :\n",
    "    if j % 3 == 0 and j % 2 != 0 :\n",
    "        print(j , end = ' ')\n",
    "    j = j + 1\n",
    "   \n"
   ]
  },
  {
   "cell_type": "code",
   "execution_count": null,
   "id": "197f02eb",
   "metadata": {},
   "outputs": [],
   "source": []
  }
 ],
 "metadata": {
  "kernelspec": {
   "display_name": "Python 3 (ipykernel)",
   "language": "python",
   "name": "python3"
  },
  "language_info": {
   "codemirror_mode": {
    "name": "ipython",
    "version": 3
   },
   "file_extension": ".py",
   "mimetype": "text/x-python",
   "name": "python",
   "nbconvert_exporter": "python",
   "pygments_lexer": "ipython3",
   "version": "3.9.12"
  }
 },
 "nbformat": 4,
 "nbformat_minor": 5
}
