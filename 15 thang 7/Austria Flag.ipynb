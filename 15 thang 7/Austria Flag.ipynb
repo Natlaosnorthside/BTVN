{
 "cells": [
  {
   "cell_type": "code",
   "execution_count": 1,
   "id": "731db36a",
   "metadata": {},
   "outputs": [],
   "source": [
    "import turtle as t \n",
    "\n",
    "t.speed(0)\n",
    "t.setup(800, 500)\n",
    "t.bgcolor(\"red\")\n",
    "\n",
    "t.penup()\n",
    "t.goto(-400, -80)\n",
    "t.pendown()\n",
    "\n",
    "t.color(\"white\")\n",
    "t.begin_fill()\n",
    "t.forward(800)\n",
    "t.left(90)\n",
    "t.forward(167)\n",
    "t.left(90)\n",
    "t.forward(800)\n",
    "t.end_fill()\n",
    "t.hideturtle()\n",
    "t.done()"
   ]
  }
 ],
 "metadata": {
  "kernelspec": {
   "display_name": "Python 3 (ipykernel)",
   "language": "python",
   "name": "python3"
  },
  "language_info": {
   "codemirror_mode": {
    "name": "ipython",
    "version": 3
   },
   "file_extension": ".py",
   "mimetype": "text/x-python",
   "name": "python",
   "nbconvert_exporter": "python",
   "pygments_lexer": "ipython3",
   "version": "3.9.12"
  }
 },
 "nbformat": 4,
 "nbformat_minor": 5
}
